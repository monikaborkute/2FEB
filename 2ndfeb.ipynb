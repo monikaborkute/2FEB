{
  "nbformat": 4,
  "nbformat_minor": 0,
  "metadata": {
    "colab": {
      "name": "2ndfeb.ipynb",
      "provenance": [],
      "collapsed_sections": []
    },
    "kernelspec": {
      "name": "python3",
      "display_name": "Python 3"
    },
    "language_info": {
      "name": "python"
    }
  },
  "cells": [
    {
      "cell_type": "code",
      "execution_count": 19,
      "metadata": {
        "colab": {
          "base_uri": "https://localhost:8080/"
        },
        "id": "SE1eXBb-qnaL",
        "outputId": "a41c15fb-351d-4d27-dec9-cbc9eabc9af7"
      },
      "outputs": [
        {
          "output_type": "stream",
          "name": "stdout",
          "text": [
            "Enter integer value:15 25 35 45 55\n",
            "175\n"
          ]
        }
      ],
      "source": [
        "#take multiple numbers as inputand print the sum\n",
        "# 15 25 35 45 55 \n",
        "x=[int(i) for i in input('Enter integer value:').split()]\n",
        "\n",
        "s=0\n",
        "for j in x:\n",
        "  s+=j #sum=sum + j\n",
        "print(sum)\n"
      ]
    },
    {
      "cell_type": "code",
      "source": [
        "from functools import reduce\n",
        "x=[int(i) for i in input('Enter integer value:').split()]\n",
        "\n",
        "res =reduce (lambda a,b: a+b,x)\n",
        "print(res)\n"
      ],
      "metadata": {
        "colab": {
          "base_uri": "https://localhost:8080/"
        },
        "id": "Nl6--CyCv-iV",
        "outputId": "9f47f9ef-b35d-422e-d4cd-e3ccf0ff29e6"
      },
      "execution_count": 9,
      "outputs": [
        {
          "output_type": "stream",
          "name": "stdout",
          "text": [
            "Enter integer value:10 20 30 40 50 \n",
            "150\n"
          ]
        }
      ]
    },
    {
      "cell_type": "code",
      "source": [
        "x=[int(i) for i in input('Enter integer value:').split()]\n",
        "print(x, type(x))\n",
        "print (sum(x))"
      ],
      "metadata": {
        "colab": {
          "base_uri": "https://localhost:8080/"
        },
        "id": "nerWpWtxv_u-",
        "outputId": "6116f984-9999-414c-dbd1-e38db467de5c"
      },
      "execution_count": 1,
      "outputs": [
        {
          "output_type": "stream",
          "name": "stdout",
          "text": [
            "Enter integer value:15 25 35 45 55\n",
            "[15, 25, 35, 45, 55] <class 'list'>\n",
            "175\n"
          ]
        }
      ]
    },
    {
      "cell_type": "code",
      "source": [
        "li = [3,1,6,8,4]\n",
        "sum(li)"
      ],
      "metadata": {
        "colab": {
          "base_uri": "https://localhost:8080/"
        },
        "id": "QfoY3PhMwAtb",
        "outputId": "d2a35b6d-0a25-464a-d088-f79a970f25ba"
      },
      "execution_count": 11,
      "outputs": [
        {
          "output_type": "execute_result",
          "data": {
            "text/plain": [
              "29"
            ]
          },
          "metadata": {},
          "execution_count": 10
        },
        {
          "output_type": "execute_result",
          "data": {
            "text/plain": [
              "22"
            ]
          },
          "metadata": {},
          "execution_count": 11
        }
      ]
    },
    {
      "cell_type": "code",
      "source": [
        ""
      ],
      "metadata": {
        "colab": {
          "base_uri": "https://localhost:8080/",
          "height": 130
        },
        "id": "y4klvBvnyQiU",
        "outputId": "f0f43152-ac9e-49fa-b237-61b635318d5a"
      },
      "execution_count": 15,
      "outputs": [
        {
          "output_type": "error",
          "ename": "SyntaxError",
          "evalue": "ignored",
          "traceback": [
            "\u001b[0;36m  File \u001b[0;32m\"<ipython-input-15-f0d67e4c2bd5>\"\u001b[0;36m, line \u001b[0;32m1\u001b[0m\n\u001b[0;31m    li= [3 4 6 7 9 ]\u001b[0m\n\u001b[0m           ^\u001b[0m\n\u001b[0;31mSyntaxError\u001b[0m\u001b[0;31m:\u001b[0m invalid syntax\n"
          ]
        }
      ]
    },
    {
      "cell_type": "code",
      "source": [
        "li =[3 ,4, 6, 7, 9]\n",
        "min(li)"
      ],
      "metadata": {
        "id": "yHOhbusMyR88"
      },
      "execution_count": null,
      "outputs": []
    },
    {
      "cell_type": "code",
      "source": [
        "li= [3,4,6,7,9]\n",
        "max(li)"
      ],
      "metadata": {
        "id": "-xwwvEXAyTPE"
      },
      "execution_count": null,
      "outputs": []
    },
    {
      "cell_type": "code",
      "source": [
        ""
      ],
      "metadata": {
        "id": "PqU7sveYzExE"
      },
      "execution_count": null,
      "outputs": []
    },
    {
      "cell_type": "code",
      "source": [
        ""
      ],
      "metadata": {
        "id": "sZ6RmbTWzFHi"
      },
      "execution_count": null,
      "outputs": []
    },
    {
      "cell_type": "code",
      "source": [
        ""
      ],
      "metadata": {
        "id": "7Sk3p26YzFik"
      },
      "execution_count": null,
      "outputs": []
    },
    {
      "cell_type": "code",
      "source": [
        ""
      ],
      "metadata": {
        "id": "GAodk2SyzF0w"
      },
      "execution_count": null,
      "outputs": []
    }
  ]
}